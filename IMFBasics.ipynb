{
 "cells": [
  {
   "cell_type": "markdown",
   "id": "f503ce13-2b1c-4580-adaa-8798f2570c5e",
   "metadata": {},
   "source": [
    "Homework assigned to AST7939"
   ]
  },
  {
   "cell_type": "code",
   "execution_count": 1,
   "id": "a5a5a2cf-2c7a-4277-b5b8-9f4b3556f33b",
   "metadata": {},
   "outputs": [],
   "source": [
    "import imf"
   ]
  },
  {
   "cell_type": "code",
   "execution_count": 2,
   "id": "93c51f9e-1d34-4e6e-8b56-1fc50401c777",
   "metadata": {},
   "outputs": [
    {
     "data": {
      "text/plain": [
       "(0.3, 120)"
      ]
     },
     "execution_count": 2,
     "metadata": {},
     "output_type": "execute_result"
    }
   ],
   "source": [
    "imf.salpeter.mmin, imf.salpeter.mmax"
   ]
  },
  {
   "cell_type": "code",
   "execution_count": 3,
   "id": "cb4fdbde-7d95-49b7-bfa3-1f1b1b5a9a1f",
   "metadata": {},
   "outputs": [
    {
     "data": {
      "text/plain": [
       "(0.03, 120)"
      ]
     },
     "execution_count": 3,
     "metadata": {},
     "output_type": "execute_result"
    }
   ],
   "source": [
    "imf.kroupa.mmin, imf.kroupa.mmax"
   ]
  },
  {
   "cell_type": "code",
   "execution_count": 4,
   "id": "f061da4a-9914-4a82-bd8d-bbd889be4b6f",
   "metadata": {},
   "outputs": [
    {
     "data": {
      "text/plain": [
       "(0, inf)"
      ]
     },
     "execution_count": 4,
     "metadata": {},
     "output_type": "execute_result"
    }
   ],
   "source": [
    "imf.chabrier.mmin, imf.chabrier.mmax"
   ]
  },
  {
   "cell_type": "code",
   "execution_count": 5,
   "id": "d77422a4-8064-40ee-9121-218db8e84a15",
   "metadata": {},
   "outputs": [],
   "source": [
    "mmin=0.03\n",
    "mmax=120"
   ]
  },
  {
   "cell_type": "markdown",
   "id": "a98bbade-453e-4b65-bcc7-1b26747363f5",
   "metadata": {
    "tags": []
   },
   "source": [
    "# 0. Plot the IMFs"
   ]
  },
  {
   "cell_type": "code",
   "execution_count": 6,
   "id": "d22a4f3d-838c-4b42-8d57-57e11b85d283",
   "metadata": {},
   "outputs": [],
   "source": [
    "%matplotlib inline\n",
    "import pylab as pl\n",
    "import numpy as np\n",
    "pl.rcParams['figure.facecolor'] = 'w'"
   ]
  },
  {
   "cell_type": "code",
   "execution_count": null,
   "id": "240bf7b2-41eb-4ad3-aaf1-9107b105eea4",
   "metadata": {},
   "outputs": [],
   "source": [
    "masses = np.geomspace(0.03, 120, 1000)\n",
    "mmin=0.03\n",
    "mmax=120\n",
    "for distribution in ('Salpeter', 'ChabrierPowerLaw', 'Kroupa'):\n",
    "    distr = getattr(imf, distribution)(mmin=mmin, mmax=mmax)\n",
    "    pl.loglog(masses, distr(masses), label=distribution)\n",
    "pl.legend(loc='best')"
   ]
  },
  {
   "cell_type": "markdown",
   "id": "7439049a-b722-48d9-bd03-7f1714f26ccd",
   "metadata": {},
   "source": [
    "# (a) Mean Mass"
   ]
  },
  {
   "cell_type": "code",
   "execution_count": null,
   "id": "8b065eb2-e035-4749-a30e-0073d6cbd623",
   "metadata": {},
   "outputs": [],
   "source": [
    "mmin=0.03\n",
    "mmax=120\n",
    "for distribution in ('Salpeter', 'ChabrierPowerLaw', 'Kroupa'):\n",
    "    distr = getattr(imf, distribution)(mmin=mmin, mmax=mmax)\n",
    "    mass_integral = distr.m_integrate(mmin, mmax)[0]\n",
    "    n_integral = distr.integrate(mmin, mmax)[0]\n",
    "    print(f'{distribution} mean mass: {mass_integral/n_integral:0.2f}.  N={n_integral}, M={mass_integral})')"
   ]
  },
  {
   "cell_type": "code",
   "execution_count": null,
   "id": "bc27eb30",
   "metadata": {},
   "outputs": [],
   "source": [
    "# by hand integral sanity check\n",
    "(120**-0.35 - 0.03**-0.35)/(-0.35), (120**-1.35 - 0.03**-1.35)/(-1.35), (120**-0.35 - 0.03**-0.35)/(-0.35) / ((120**-1.35 - 0.03**-1.35)/(-1.35))"
   ]
  },
  {
   "cell_type": "markdown",
   "id": "8197361b-8c5b-424d-8c17-c9f01740ba61",
   "metadata": {},
   "source": [
    "# (b) Mean mass of high-mass stars"
   ]
  },
  {
   "cell_type": "code",
   "execution_count": null,
   "id": "6952fc52-ed81-4e59-8ea5-dce6e8c15712",
   "metadata": {},
   "outputs": [],
   "source": [
    "mmax = 120\n",
    "mmin = 0.03\n",
    "for distribution in ('Salpeter', 'ChabrierPowerLaw', 'Kroupa'):\n",
    "    distr = getattr(imf, distribution)(mmin=mmin, mmax=mmax)\n",
    "    mean_highmass = distr.m_integrate(8, mmax)[0] / distr.integrate(8, mmax)[0]\n",
    "    print(f'{distribution} Mean M(M>8) = {mean_highmass:0.2f}')"
   ]
  },
  {
   "cell_type": "markdown",
   "id": "128d79de-0219-4d09-bf43-81439c4f16ac",
   "metadata": {},
   "source": [
    "# (c) Ratio of _number_ of high-mass (M>8 Msun) to low-mass stars"
   ]
  },
  {
   "cell_type": "code",
   "execution_count": null,
   "id": "7eedbddf-d2a7-491c-a5a2-74f060123614",
   "metadata": {},
   "outputs": [],
   "source": [
    "mmax = 120\n",
    "mmin = 0.03\n",
    "for distribution in ('Salpeter', 'ChabrierPowerLaw', 'Kroupa'):\n",
    "    distr = getattr(imf, distribution)(mmin=mmin, mmax=mmax)\n",
    "    ratio_highmass = distr.integrate(8, mmax)[0]\n",
    "    ratio_highmasslowmass = distr.integrate(8, mmax)[0] / distr.integrate(mmin, 8)[0]\n",
    "    print(f'{distribution} N(M>8) / N(tot) = {ratio_highmass:0.4f}, N(M>8) / N(low) = {ratio_highmasslowmass:0.4f}')"
   ]
  },
  {
   "cell_type": "markdown",
   "id": "32783390-bf8d-4243-a3d8-278393aecd89",
   "metadata": {},
   "source": [
    "# (d) Ratio of _mass_ of high-mass (M>8 Msun) to low-mass stars"
   ]
  },
  {
   "cell_type": "code",
   "execution_count": null,
   "id": "8baa1592-c90a-4d74-b423-774444fd34c3",
   "metadata": {},
   "outputs": [],
   "source": [
    "mmax = 120\n",
    "mmin = 0.03\n",
    "for distribution in ('Salpeter', 'ChabrierPowerLaw', 'Kroupa'):\n",
    "    distr = getattr(imf, distribution)(mmin=mmin, mmax=mmax)\n",
    "    ratio_highmass = distr.m_integrate(8, mmax)[0] / distr.m_integrate(mmin, mmax)[0]\n",
    "    ratio_highmasslowmass = distr.m_integrate(8, mmax)[0] / distr.m_integrate(mmin, 8)[0]\n",
    "    print(f'{distribution} M(M>8) / M(tot) = {ratio_highmass:0.4f}, M(M>8) / M(low) = {ratio_highmasslowmass:0.4f}')"
   ]
  },
  {
   "cell_type": "markdown",
   "id": "e43f6637-b0e2-4bd2-9b9d-dfd09009978b",
   "metadata": {},
   "source": [
    "# (e) Do these numbers change if you change mmax?"
   ]
  },
  {
   "cell_type": "code",
   "execution_count": null,
   "id": "3ff555a1-d66e-4f41-a2c6-5b16e61cc75b",
   "metadata": {},
   "outputs": [],
   "source": [
    "mmin = 0.03\n",
    "for mmax in (100, 1000):\n",
    "    print(f'\\nM_max = {mmax}')\n",
    "    for distribution in ('Salpeter', 'ChabrierPowerLaw', 'Kroupa'):\n",
    "        distr = getattr(imf, distribution)(mmin=mmin, mmax=mmax)\n",
    "        mass_integral = distr.m_integrate(mmin, mmax)[0]\n",
    "        n_integral = distr.integrate(mmin, mmax)[0]\n",
    "        print(f'{distribution} mean mass: {mass_integral/n_integral:0.2f}')\n",
    "\n",
    "        ratio_highmass = distr.m_integrate(8, mmax)[0] / distr.m_integrate(mmin, mmax)[0]\n",
    "        ratio_highmasslowmass = distr.m_integrate(8, mmax)[0] / distr.m_integrate(mmin, 8)[0]\n",
    "        print(f'{distribution} M(M>8) / M(tot) = {ratio_highmass:0.4f}, M(M>8) / M(low) = {ratio_highmasslowmass:0.4f}')\n",
    "\n",
    "        ratio_highmass = distr.integrate(8, mmax)[0]\n",
    "        ratio_highmasslowmass = distr.integrate(8, mmax)[0] / distr.integrate(mmin, 8)[0]\n",
    "        print(f'{distribution} N(M>8) / N(tot) = {ratio_highmass:0.4f}, N(M>8) / N(low) = {ratio_highmasslowmass:0.4f}')"
   ]
  },
  {
   "cell_type": "markdown",
   "id": "a7d29c4f-c8dc-429a-9787-95da550430c2",
   "metadata": {},
   "source": [
    "#  (f) Do these numbers change if you change mmin?"
   ]
  },
  {
   "cell_type": "code",
   "execution_count": null,
   "id": "6823070e-7a98-49d9-8f2f-e0209e1d821b",
   "metadata": {},
   "outputs": [],
   "source": [
    "mmax = 120\n",
    "for mmin in (0.03, 0.3):\n",
    "    print(f'\\nM_max = {mmax}, M_min={mmin}')\n",
    "    for distribution in ('Salpeter', 'ChabrierPowerLaw', 'Kroupa'):\n",
    "        try:\n",
    "            # the salpeter default mmin is 0.3, so we have to set it lower\n",
    "            distr = getattr(imf, distribution)(mmin=mmin, mmax=mmax)\n",
    "        except Exception:\n",
    "            # the Kroupa MF can't have mmin < 0.08 because of how it is normalized\n",
    "            distr = getattr(imf, distribution)(mmax=mmax)\n",
    "\n",
    "        mass_integral = distr.m_integrate(mmin, mmax)[0]\n",
    "        n_integral = distr.integrate(mmin, mmax)[0]\n",
    "        print(f'{distribution} mean mass: {mass_integral/n_integral:0.2f}')\n",
    "\n",
    "        ratio_highmass = distr.m_integrate(8, mmax)[0] / distr.m_integrate(mmin, mmax)[0]\n",
    "        ratio_highmasslowmass = distr.m_integrate(8, mmax)[0] / distr.m_integrate(mmin, 8)[0]\n",
    "        print(f'{distribution} M(M>8) / M(tot) = {ratio_highmass:0.4f}, M(M>8) / M(low) = {ratio_highmasslowmass:0.4f}')\n",
    "\n",
    "        ratio_highmass = distr.integrate(8, mmax)[0]\n",
    "        ratio_highmasslowmass = distr.integrate(8, mmax)[0] / distr.integrate(mmin, 8)[0]\n",
    "        print(f'{distribution} N(M>8) / N(tot) = {ratio_highmass:0.4f}, N(M>8) / N(low) = {ratio_highmasslowmass:0.4f}')"
   ]
  },
  {
   "cell_type": "markdown",
   "id": "14741624-38ef-4263-8d1b-07527b14ec65",
   "metadata": {},
   "source": [
    "#  (g) How many stars go SN in a cluster of 1000 stars?\n",
    "How massive is such a cluster?"
   ]
  },
  {
   "cell_type": "code",
   "execution_count": null,
   "id": "977306b1-c38a-4081-a456-da39180bfb70",
   "metadata": {},
   "outputs": [],
   "source": [
    "mmax = 120\n",
    "mmin = 0.03\n",
    "for distribution in ('Salpeter', 'ChabrierPowerLaw', 'Kroupa'):\n",
    "    distr = getattr(imf, distribution)(mmin=mmin, mmax=mmax)\n",
    "    frac_highmass = distr.integrate(8, mmax)[0]\n",
    "    mean_mass = distr.m_integrate(mmin, mmax)[0] / distr.integrate(mmin, mmax)[0]\n",
    "\n",
    "    print(f'{distribution:17s} N(M>8) = {frac_highmass*1000:0.2f}  M(N=1000)={mean_mass*1000:0.2g}')"
   ]
  },
  {
   "cell_type": "markdown",
   "id": "f2f7bddb-4788-4301-aab7-c1c050caec9d",
   "metadata": {},
   "source": [
    "# (g)2 How many stars go SN in a cluster of 1000 Msun?"
   ]
  },
  {
   "cell_type": "code",
   "execution_count": null,
   "id": "8e0a8f21-be87-4d64-81f4-2ff5242fb68f",
   "metadata": {},
   "outputs": [],
   "source": [
    "mmax = 120\n",
    "mmin = 0.03\n",
    "for distribution in ('Salpeter', 'ChabrierPowerLaw', 'Kroupa'):\n",
    "    distr = getattr(imf, distribution)(mmin=mmin, mmax=mmax)\n",
    "    frac_highmass = distr.m_integrate(8, mmax)[0] / distr.m_integrate(mmin, mmax)[0]\n",
    "    mean_highmass = distr.m_integrate(8, mmax)[0] / distr.integrate(8, mmax)[0]\n",
    "\n",
    "    print(f'{distribution:17s} N_SN = N(M>8) = {frac_highmass*1000 / mean_highmass:0.1f}')"
   ]
  },
  {
   "cell_type": "markdown",
   "id": "f55289d6-a9f7-4a27-bd16-7315e55b048c",
   "metadata": {},
   "source": [
    "# (h) ODF\n",
    "\n",
    "In an ‘optimal distribution function’ (ODF), the cluster mass to maximum star mass is fixed by defining 􏰖 Mmax ξdM = 1, where\n",
    "Mmax,cl\n",
    "Mmax is the maximum possible mass for a star and Mmax,cl\n",
    "is the most massive star in the cluster. From this definition, determine how many stars must be in a cluster to form one 10 M⊙ star or one 100 M⊙ star."
   ]
  },
  {
   "cell_type": "code",
   "execution_count": null,
   "id": "009513db-9bc1-4e8d-832f-9de7bce0f87b",
   "metadata": {},
   "outputs": [],
   "source": [
    "mmin=0.03\n",
    "mmax=120\n",
    "for mstar in (10,100):\n",
    "    print()\n",
    "    for distribution in ('Salpeter', 'ChabrierPowerLaw', 'Kroupa'):\n",
    "        distr = getattr(imf, distribution)(mmin=mmin, mmax=mmax)\n",
    "        frac_highmass = distr.integrate(mstar, mmax)[0]\n",
    "        print(f\"{distribution}: nstars to make {mstar} msun = {int(1/frac_highmass)}\")"
   ]
  },
  {
   "cell_type": "code",
   "execution_count": null,
   "id": "4ebaae63-db9f-4488-9401-734806f5dc6e",
   "metadata": {},
   "outputs": [],
   "source": [
    "mmin=0.03\n",
    "mmax=120\n",
    "pl.clf()\n",
    "for distribution in ('Salpeter', 'ChabrierPowerLaw', 'Kroupa'):\n",
    "    distr = getattr(imf, distribution)(mmin=mmin, mmax=mmax)\n",
    "    massrange = np.linspace(8, 100)\n",
    "    frac_highmass = np.array([distr.integrate(mr, mmax)[0] for mr in massrange])\n",
    "    pl.loglog(massrange, 1/frac_highmass, label=distribution)\n",
    "pl.legend(loc='best')\n",
    "pl.xlabel(\"$M_{max,cl}$\")\n",
    "pl.ylabel(\"$N_{*,cl}$\")"
   ]
  },
  {
   "cell_type": "markdown",
   "id": "f5b98d5d-d098-4e2d-969c-b0b5c4872e7a",
   "metadata": {},
   "source": [
    "# (i) Mass of cluster vs m_max?\n",
    "\n",
    "(i) What mass of cluster is required to produce a star of that mass?"
   ]
  },
  {
   "cell_type": "code",
   "execution_count": null,
   "id": "f6a34633-f6cb-418e-b40d-e2c222f085d5",
   "metadata": {},
   "outputs": [],
   "source": [
    "mmax = 120\n",
    "mmin = 0.03\n",
    "pl.clf()\n",
    "for distribution in ('Salpeter', 'ChabrierPowerLaw', 'Kroupa'):\n",
    "    distr = getattr(imf, distribution)(mmin=mmin, mmax=mmax)\n",
    "    massrange = np.linspace(8, 100)\n",
    "    frac_highmass = np.array([distr.integrate(mr, mmax)[0] for mr in massrange])\n",
    "    \n",
    "    mass_integral = distr.m_integrate(mmin, mmax)[0]\n",
    "    n_integral = distr.integrate(mmin, mmax)[0]\n",
    "    meanmass = mass_integral/n_integral\n",
    "    \n",
    "    pl.loglog(massrange, meanmass * 1/frac_highmass, label=distribution)\n",
    "    print(f\"{distribution}: mass(100Msun) = {meanmass / frac_highmass[-1]:0.2g}, N(100msun) = {int(1/frac_highmass[-1])}\")\n",
    "pl.legend(loc='best')\n",
    "pl.xlabel(\"$M_{max,cl}$\")\n",
    "pl.ylabel(\"$M_{*,cl}$\");"
   ]
  },
  {
   "cell_type": "markdown",
   "id": "27e4dc0d-5b26-4209-a76d-cc93a2a31ea3",
   "metadata": {},
   "source": [
    "# (j) Minimum mass to \"fully sample\" IMF at 95% likelihood\n",
    "\n",
    "(j) In a probability distribution function, there is only a fix likeli- hood of forming a star of a given mass. What is the minimum cluster mass required to have a > 95% (> 63.21%) probability of forming at least one ≥ 100 M⊙ star?\n",
    "Recall that the likelihood of rolling at least one six after 100 rolls\n",
    "is equal to one minus the likelihood of rolling no sixes in 100\n",
    "rollsi.e.,P(≥1 )=1−􏰀5􏰁100."
   ]
  },
  {
   "cell_type": "markdown",
   "id": "b75be6ad-23e3-4ad5-a1fe-0d76b6dbbc17",
   "metadata": {},
   "source": [
    "How do we formulate the problem?\n",
    "\n",
    "We want $P(M>100, N=1) > 95\\%$\n",
    "\n",
    "$$P(M>100) = \\int_{100}^{M_{max}}\\xi dM$$\n",
    "\n",
    "\n",
    "\n",
    "So we want $P(M<100)^N = 0.05$, solve for $N$\n",
    "\n",
    "$$N = \\log(0.05) / \\log (P(M<100))$$"
   ]
  },
  {
   "cell_type": "code",
   "execution_count": null,
   "id": "0567e0ed-96c2-4c4d-a1b3-cc8f74bd9995",
   "metadata": {},
   "outputs": [],
   "source": [
    "mmax = 120\n",
    "mmin = 0.03\n",
    "for distribution in ('Salpeter', 'ChabrierPowerLaw', 'Kroupa'):\n",
    "    distr = getattr(imf, distribution)(mmin=mmin, mmax=mmax)\n",
    "    \n",
    "    n_integral_100 = 1-distr.integrate(100, mmax)[0]\n",
    "    print(f\"ODF {distribution} P(>100) = {n_integral_100}, N_* = 1/(1-P(>100)={int(1/(1-n_integral_100))}\")\n",
    "\n",
    "\n",
    "    mass_integral = distr.m_integrate(mmin, mmax)[0]\n",
    "    n_integral = distr.integrate(mmin, mmax)[0]\n",
    "    meanmass = mass_integral/n_integral\n",
    "    \n",
    "    nstar = np.log(1-0.95) / np.log(n_integral_100)\n",
    "    nstar50 = np.log(1-0.6321) / np.log(n_integral_100)\n",
    "\n",
    "    \n",
    "    minmass_cluster = meanmass*nstar\n",
    "    \n",
    "    print(f\"ODF {distribution}: M = {int(1/(1-n_integral_100)) * meanmass:0.2g}\")\n",
    "    print(f\"PDF {distribution}: Min mass for >1 100 Msun star at 95%: {minmass_cluster:0.2g} nstars={int(nstar)}\")\n",
    "    print(f\"PDF {distribution}: Min mass for >1 100 Msun star at 62.3%: {meanmass*nstar50:0.2g} nstars={int(nstar50)}\")\n",
    "    print()"
   ]
  },
  {
   "cell_type": "markdown",
   "id": "c5e1f091-53f9-4b91-b863-d9f40c28a929",
   "metadata": {},
   "source": [
    "# (k) What's the difference?\n",
    "\n",
    "(k) Compare the results from the ODF and the PDF for the pres- ence of a M > 100M⊙ star. How can you interpret the differ- ence?"
   ]
  },
  {
   "cell_type": "markdown",
   "id": "05687311-b412-47ee-a635-62e410569811",
   "metadata": {},
   "source": [
    "The PDF gives a ~1/3 chance of not having a 100 Msun star, while the ODF guarantees there will be exactly one."
   ]
  },
  {
   "cell_type": "markdown",
   "id": "793bbc69-7b35-45fe-8c69-f475676b4d3d",
   "metadata": {},
   "source": [
    "# (l) Luminosity"
   ]
  },
  {
   "cell_type": "code",
   "execution_count": null,
   "id": "5ab6f66e-328a-4b0d-8083-043187f233bb",
   "metadata": {},
   "outputs": [],
   "source": [
    "import scipy.integrate"
   ]
  },
  {
   "cell_type": "code",
   "execution_count": null,
   "id": "56a656ac-b975-45f2-a152-c18b34a748d8",
   "metadata": {},
   "outputs": [],
   "source": [
    "mmin = 0.03\n",
    "mmax = 120\n",
    "for distribution in ('Salpeter', 'ChabrierPowerLaw', 'Kroupa'):\n",
    "    distr = getattr(imf, distribution)(mmin=mmin, mmax=mmax)\n",
    "    def lum(x):\n",
    "        return x**3 * distr(x)\n",
    "    lum_int = scipy.integrate.quad(lum, mmin, mmax)[0]\n",
    "    mass_int = distr.m_integrate(mmin,mmax)[0]\n",
    "    \n",
    "    print(f\"{distribution}: L/M = {lum_int/mass_int:0.1f}\")"
   ]
  },
  {
   "cell_type": "markdown",
   "id": "3bd29746-f8ee-4b47-888c-cb8997f5d628",
   "metadata": {},
   "source": [
    "# (m) Multiplicity\n",
    "\n",
    "The IMF is the _system_ IMF.  If we are primarily interested\n",
    "            in the luminosity of a system, splitting the mass between multiple\n",
    "            stars can make a big difference.  If we assume every star system\n",
    "            consists of an equal-mass binary, what is the effect on the L/M ratio?\n",
    "            Is this a reasonable approximation to the multiplicity fraction?\n"
   ]
  },
  {
   "cell_type": "code",
   "execution_count": null,
   "id": "604e2937-33a6-42b3-acef-739120a839fa",
   "metadata": {},
   "outputs": [],
   "source": [
    "mmin = 0.03\n",
    "mmax = 120\n",
    "for distribution in ('Salpeter', 'ChabrierPowerLaw', 'Kroupa'):\n",
    "    distr = getattr(imf, distribution)(mmin=mmin, mmax=mmax)\n",
    "    def lum(x):\n",
    "        return 2*(x/2)**3 * distr(x)\n",
    "    lum_int = scipy.integrate.quad(lum, mmin, mmax)[0]\n",
    "    mass_int = distr.m_integrate(mmin,mmax)[0]\n",
    "    \n",
    "    print(f\"{distribution}: L/M = {lum_int/mass_int:0.1f}\")"
   ]
  },
  {
   "cell_type": "markdown",
   "id": "922af736-08cd-4169-91e6-06ab43c6cdbb",
   "metadata": {},
   "source": [
    "# (n) ODF effects on L\n",
    "\n",
    "For an ODF, the effective maximum stellar mass can be smaller.\n",
    "If all star-forming events in a galaxy occur in Taurus-like star-\n",
    "forming regions, with $M_{cluster}=100$M$_\\odot$, what is the maximum\n",
    "mass? What is the resulting L/M ratio? Recall that this is the\n",
    "maximum the L/M will be in such a galaxy."
   ]
  },
  {
   "cell_type": "code",
   "execution_count": null,
   "id": "e5b7338a-8951-4f0c-913d-92c655d60e59",
   "metadata": {},
   "outputs": [],
   "source": [
    "mmax = 120\n",
    "mmin = 0.03\n",
    "mtaurus = 100\n",
    "for distribution in ('Salpeter', 'ChabrierPowerLaw', 'Kroupa'):\n",
    "    distr = getattr(imf, distribution)(mmin=mmin, mmax=mtaurus)\n",
    "    \n",
    "    mass_integral = distr.m_integrate(mmin, mmax)[0]\n",
    "    n_integral = distr.integrate(mmin, mmax)[0]\n",
    "    meanmass = mass_integral/n_integral # average mass for a PDF\n",
    "    \n",
    "    # What's the actual maximum mass in a Taurus-like SFR?\n",
    "    # In an ODF, M_*,max <= M_cluster.  So let's search for the mass of the star:\n",
    "    teststellarmassrange = np.linspace(mmin, mtaurus*0.7, 1000)\n",
    "    # for each mass in our selection, we can calculate the integral from that mass to m_max\n",
    "    frac_highmass = np.array([distr.integrate(mr, mtaurus)[0] for mr in teststellarmassrange])\n",
    "    \n",
    "    # we calculate the cluster mass as the mean mass \n",
    "    # (integrated from mmin to mmax, where we set mmax=mtaurus in this case because mtaurus < m_{max, theory})\n",
    "    # note that this cluster mass can be larger than mtaurus, which isn't allowed - that's ok,\n",
    "    # the point is we're finding the mass of a cluster required to produce a star of a given mass,\n",
    "    # and we're just going to ignore the results > m_taurus\n",
    "    mcluster = meanmass * (1/frac_highmass)\n",
    "    \n",
    "    # so we plot (see below) the stellar mass on the X-axis against the cluster mass required to produce it on the Y-axis\n",
    "    # then ask where mtaurus == that curve\n",
    "    maxmass = np.interp(mtaurus, mcluster, teststellarmassrange)\n",
    "    \n",
    "    # once we have the maximum mas, it's easy to just integrate\n",
    "    def lum(x):\n",
    "        return x**3 * distr(x)\n",
    "    lum_int = scipy.integrate.quad(lum, mmin, maxmass)[0]\n",
    "    mass_int = distr.m_integrate(mmin, maxmass)[0]\n",
    "    \n",
    "    print(f\"{distribution:16s}:    Mmax = {maxmass:5.2f}    L/M = {lum_int/mass_int:5.2f}\")\n"
   ]
  },
  {
   "cell_type": "code",
   "execution_count": null,
   "id": "7d5be128",
   "metadata": {},
   "outputs": [],
   "source": [
    "mmin, maxmass, lum(mmin), lum(maxmass)"
   ]
  },
  {
   "cell_type": "code",
   "execution_count": null,
   "id": "9b78d8f6",
   "metadata": {},
   "outputs": [],
   "source": [
    "# plot an example\n",
    "\n",
    "# What's the actual maximum mass in a Taurus-like SFR?\n",
    "# In an ODF, M_*,max <= M_cluster\n",
    "teststellarmassrange = np.linspace(mmin, mtaurus*0.2)\n",
    "# for each mass in our selection, we can calculate the integral from that mass to m_max\n",
    "frac_highmass = np.array([distr.integrate(mr, mtaurus)[0] for mr in teststellarmassrange])\n",
    "\n",
    "mcluster = meanmass * (1/frac_highmass)\n",
    "maxmass = np.interp(mtaurus, mcluster, teststellarmassrange)\n",
    "\n",
    "pl.plot(teststellarmassrange, mcluster)\n",
    "pl.axhline(mtaurus, color='k', linestyle='--')\n",
    "pl.xlabel(\"Maximum stellar mass\")\n",
    "pl.ylabel(\"Cluster mass\")"
   ]
  },
  {
   "cell_type": "code",
   "execution_count": null,
   "id": "493ac369-5d74-4638-9e86-8094ad49ce33",
   "metadata": {},
   "outputs": [],
   "source": []
  },
  {
   "cell_type": "code",
   "execution_count": null,
   "id": "73435e7a-36dd-41b6-a877-da01be4adff0",
   "metadata": {},
   "outputs": [],
   "source": []
  },
  {
   "cell_type": "code",
   "execution_count": null,
   "id": "c1014a44-a2d7-4dcb-ad5d-eaa3b08c565e",
   "metadata": {},
   "outputs": [],
   "source": []
  },
  {
   "cell_type": "code",
   "execution_count": null,
   "id": "2b7d65f6-b2c4-4fb1-9559-9b36206cab93",
   "metadata": {},
   "outputs": [],
   "source": []
  },
  {
   "cell_type": "code",
   "execution_count": null,
   "id": "725bd39a-ce51-404d-8095-3abb478e997c",
   "metadata": {},
   "outputs": [],
   "source": []
  },
  {
   "cell_type": "markdown",
   "id": "2a7b1ae7-fad3-4436-8a44-4b23f8e0ec20",
   "metadata": {},
   "source": [
    "# Some scribbled noted about likelihoods & die rolls"
   ]
  },
  {
   "cell_type": "markdown",
   "id": "45096e99-7258-493c-886c-7ac335541c1c",
   "metadata": {},
   "source": [
    "Probability of one successfull roll out of one attempt:"
   ]
  },
  {
   "cell_type": "code",
   "execution_count": null,
   "id": "76c03f24-f52e-4ab9-9f7a-7f6b8b8dc6a5",
   "metadata": {},
   "outputs": [],
   "source": [
    "1/6"
   ]
  },
  {
   "cell_type": "markdown",
   "id": "bdfa458d-fc4b-4db0-a867-5eec1e3ac54a",
   "metadata": {},
   "source": [
    "Probability of one successful roll out of two attempts"
   ]
  },
  {
   "cell_type": "code",
   "execution_count": null,
   "id": "dc46d33c-97da-40fd-a40e-cae39eed27d1",
   "metadata": {},
   "outputs": [],
   "source": [
    "1/6 * 5/6  + 1/6*5/6"
   ]
  },
  {
   "cell_type": "code",
   "execution_count": null,
   "id": "2edd2285-226b-45f2-bee6-eda3c03b458e",
   "metadata": {},
   "outputs": [],
   "source": [
    "(1-(1/6)**2 - (5/6)**2)"
   ]
  },
  {
   "cell_type": "markdown",
   "id": "21881ab7-c577-4107-abaa-9353157d4ec1",
   "metadata": {},
   "source": [
    "Probability of one successful roll out of three attempts"
   ]
  },
  {
   "cell_type": "code",
   "execution_count": null,
   "id": "414b856c-dc8e-4c87-a6f2-5ce09ed61abb",
   "metadata": {},
   "outputs": [],
   "source": [
    "1/6 * (5/6)**2 * 3"
   ]
  },
  {
   "cell_type": "code",
   "execution_count": null,
   "id": "432cbb2d-3734-4168-a2fd-fd0e64ec3691",
   "metadata": {},
   "outputs": [],
   "source": [
    "1- ((1/6)**3 + (1/6)**2*(5/6)*3 + (5/6)**3)"
   ]
  },
  {
   "cell_type": "markdown",
   "id": "8063558f-2ce9-4c5d-99d1-91f88f9b40cf",
   "metadata": {},
   "source": [
    "Sum over all probability = 1"
   ]
  },
  {
   "cell_type": "code",
   "execution_count": null,
   "id": "00594e1c-1588-469a-b64c-bac6cbea1432",
   "metadata": {},
   "outputs": [],
   "source": [
    "((1/6)**3 + (1/6)**2*(5/6)*3 + (5/6)**3) + (1/6)*(5/6)**2*3"
   ]
  },
  {
   "cell_type": "code",
   "execution_count": null,
   "id": "fd0aa000-943f-4248-bae9-c884b3641c7d",
   "metadata": {},
   "outputs": [],
   "source": [
    "nrolls = np.arange(1,20)\n",
    "pl.plot(nrolls, (1/6) * (5/6)**(nrolls-1) * (nrolls-1))\n",
    "pl.ylabel(\"P(N(six) = 1)\")\n",
    "pl.xlabel(\"Number of rolls\")"
   ]
  },
  {
   "cell_type": "code",
   "execution_count": null,
   "id": "bbce00fc-f30f-4762-8ae0-d07cd3d4c18c",
   "metadata": {},
   "outputs": [],
   "source": []
  }
 ],
 "metadata": {
  "kernelspec": {
   "display_name": "py39forge",
   "language": "python",
   "name": "py39forge"
  },
  "language_info": {
   "codemirror_mode": {
    "name": "ipython",
    "version": 3
   },
   "file_extension": ".py",
   "mimetype": "text/x-python",
   "name": "python",
   "nbconvert_exporter": "python",
   "pygments_lexer": "ipython3",
   "version": "3.9.16"
  }
 },
 "nbformat": 4,
 "nbformat_minor": 5
}
